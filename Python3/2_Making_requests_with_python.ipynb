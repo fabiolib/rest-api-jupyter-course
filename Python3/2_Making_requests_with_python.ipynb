{
 "cells": [
  {
   "cell_type": "markdown",
   "metadata": {},
   "source": [
    "# Making requests with Python\n",
    "\n",
    "To make a request, you'll need to specify the server and extension, using the requests module."
   ]
  },
  {
   "cell_type": "code",
   "execution_count": 4,
   "metadata": {},
   "outputs": [
    {
     "name": "stdout",
     "output_type": "stream",
     "text": [
      "/lookup/id/ENSG00000157764\n"
     ]
    }
   ],
   "source": [
    "ID = \"ENSG00000157764\"\n",
    "prefix = \"/lookup/id\"\n",
    "ext = prefix + \"/\" + ID\n",
    "\n",
    "print(ext)"
   ]
  },
  {
   "cell_type": "code",
   "execution_count": 5,
   "metadata": {},
   "outputs": [
    {
     "name": "stdout",
     "output_type": "stream",
     "text": [
      "<Response [200]>\n"
     ]
    }
   ],
   "source": [
    "import requests, sys\n",
    "\n",
    "server = \"http://rest.ensembl.org\"\n",
    "#ext = \"/lookup/id/ENSG00000157764\"\n",
    " \n",
    "r = requests.get(server+ext, headers={ \"Content-Type\" : \"application/json\"})\n",
    "\n",
    "print (r)"
   ]
  },
  {
   "cell_type": "markdown",
   "metadata": {},
   "source": [
    "Never assume that your request has worked. If it doesn't work, you should check the response code."
   ]
  },
  {
   "cell_type": "code",
   "execution_count": 6,
   "metadata": {},
   "outputs": [],
   "source": [
    "import requests, sys\n",
    "\n",
    "server = \"http://rest.ensembl.org\"\n",
    "#ext = \"/lookup/id/ENSG00000157764\"\n",
    " \n",
    "r = requests.get(server+ext, headers={ \"Content-Type\" : \"application/json\"})\n",
    "\n",
    "if not r.ok:\n",
    "    r.raise_for_status()"
   ]
  },
  {
   "cell_type": "markdown",
   "metadata": {},
   "source": [
    "If you get responses in json (recommended), you can then decode them. I've also imported the pretty print (pprint) module from python, which makes my json easy to read. You'll find this useful during the exercises to see how the json looks."
   ]
  },
  {
   "cell_type": "code",
   "execution_count": 7,
   "metadata": {},
   "outputs": [
    {
     "name": "stdout",
     "output_type": "stream",
     "text": [
      "{'assembly_name': 'GRCh38',\n",
      " 'biotype': 'protein_coding',\n",
      " 'db_type': 'core',\n",
      " 'description': 'B-Raf proto-oncogene, serine/threonine kinase [Source:HGNC '\n",
      "                'Symbol;Acc:HGNC:1097]',\n",
      " 'display_name': 'BRAF',\n",
      " 'end': 140924929,\n",
      " 'id': 'ENSG00000157764',\n",
      " 'logic_name': 'ensembl_havana_gene_homo_sapiens',\n",
      " 'object_type': 'Gene',\n",
      " 'seq_region_name': '7',\n",
      " 'source': 'ensembl_havana',\n",
      " 'species': 'homo_sapiens',\n",
      " 'start': 140719327,\n",
      " 'strand': -1,\n",
      " 'version': 14}\n"
     ]
    }
   ],
   "source": [
    "import requests, sys, json\n",
    "from pprint import pprint\n",
    "\n",
    "server = \"http://rest.ensembl.org\"\n",
    "#ext = \"/lookup/id/ENSG00000157764\"\n",
    " \n",
    "r = requests.get(server+ext, headers={ \"Content-Type\" : \"application/json\"})\n",
    "\n",
    "if not r.ok:\n",
    "    r.raise_for_status()\n",
    "\n",
    "decoded = r.json()\n",
    "\n",
    "pprint (decoded)"
   ]
  },
  {
   "cell_type": "markdown",
   "metadata": {},
   "source": [
    "The helper function allows you to call the request, check the status and decode the json in a single line in your script. If you're using lots of REST calls in your script, creating the function at the beginning of your script will save you a lot of time."
   ]
  },
  {
   "cell_type": "code",
   "execution_count": 9,
   "metadata": {},
   "outputs": [
    {
     "name": "stdout",
     "output_type": "stream",
     "text": [
      "{'assembly_name': 'GRCh38',\n",
      " 'biotype': 'protein_coding',\n",
      " 'db_type': 'core',\n",
      " 'description': 'B-Raf proto-oncogene, serine/threonine kinase [Source:HGNC '\n",
      "                'Symbol;Acc:HGNC:1097]',\n",
      " 'display_name': 'BRAF',\n",
      " 'end': 140924929,\n",
      " 'id': 'ENSG00000157764',\n",
      " 'logic_name': 'ensembl_havana_gene_homo_sapiens',\n",
      " 'object_type': 'Gene',\n",
      " 'seq_region_name': '7',\n",
      " 'source': 'ensembl_havana',\n",
      " 'species': 'homo_sapiens',\n",
      " 'start': 140719327,\n",
      " 'strand': -1,\n",
      " 'version': 14}\n"
     ]
    }
   ],
   "source": [
    "import requests, sys, json\n",
    "from pprint import pprint\n",
    "\n",
    "def fetch_endpoint(server, request, content_type):\n",
    "\n",
    "    r = requests.get(server+request, headers={ \"Content-Type\" : content_type})\n",
    "\n",
    "    if not r.ok:\n",
    "        r.raise_for_status()\n",
    "        sys.exit()\n",
    "\n",
    "    if content_type == 'application/json':\n",
    "        return r.json()\n",
    "    else:\n",
    "        return r.text\n",
    "\n",
    "\n",
    "server = \"http://rest.ensembl.org/\"\n",
    "ext = \"lookup/id/ENSG00000157764?\"\n",
    "con = \"application/json\"\n",
    "get_gene = fetch_endpoint(server, ext, con)\n",
    "\n",
    "pprint (get_gene)"
   ]
  },
  {
   "cell_type": "markdown",
   "metadata": {},
   "source": [
    "## Exercises 2\n",
    "\n",
    "1. Write a script to **lookup** the gene called *ESPN* in human and print the results in json."
   ]
  },
  {
   "cell_type": "code",
   "execution_count": 10,
   "metadata": {},
   "outputs": [
    {
     "name": "stdout",
     "output_type": "stream",
     "text": [
      "{'assembly_name': 'GRCh38',\n",
      " 'biotype': 'protein_coding',\n",
      " 'db_type': 'core',\n",
      " 'description': 'espin [Source:HGNC Symbol;Acc:HGNC:13281]',\n",
      " 'display_name': 'ESPN',\n",
      " 'end': 6461367,\n",
      " 'id': 'ENSG00000187017',\n",
      " 'logic_name': 'ensembl_havana_gene_homo_sapiens',\n",
      " 'object_type': 'Gene',\n",
      " 'seq_region_name': '1',\n",
      " 'source': 'ensembl_havana',\n",
      " 'species': 'homo_sapiens',\n",
      " 'start': 6424776,\n",
      " 'strand': 1,\n",
      " 'version': 17}\n"
     ]
    }
   ],
   "source": [
    "# Exercise 2.1\n",
    "\n",
    "#http://rest.ensembl.org/lookup/symbol/homo_sapiens/ESPN?content-type=application/json;expand=1\n",
    "\n",
    "server = \"http://rest.ensembl.org/\"\n",
    "ext = \"lookup/symbol/\"\n",
    "symbol = \"ESPN\"\n",
    "ext = ext + \"homo_sapiens\" + \"/\" + symbol\n",
    "con = \"application/json\"\n",
    "get_gene = fetch_endpoint(server, ext, con)\n",
    "\n",
    "pprint (get_gene)\n"
   ]
  },
  {
   "cell_type": "markdown",
   "metadata": {},
   "source": [
    "[Next page: Exercises 2 – answers](2_Making_requests_with_python_answers.ipynb)"
   ]
  }
 ],
 "metadata": {
  "kernelspec": {
   "display_name": "Python 3",
   "language": "python",
   "name": "python3"
  },
  "language_info": {
   "codemirror_mode": {
    "name": "ipython",
    "version": 3
   },
   "file_extension": ".py",
   "mimetype": "text/x-python",
   "name": "python",
   "nbconvert_exporter": "python",
   "pygments_lexer": "ipython3",
   "version": "3.8.5"
  }
 },
 "nbformat": 4,
 "nbformat_minor": 2
}
