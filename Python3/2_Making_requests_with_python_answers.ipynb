{
 "cells": [
  {
   "cell_type": "markdown",
   "metadata": {},
   "source": [
    "# Exercises 2 – answers\n",
    "\n",
    "1. Write a script to **lookup** the gene called *ESPN* in human and print the results in json."
   ]
  },
  {
   "cell_type": "code",
   "execution_count": 1,
   "metadata": {},
   "outputs": [
    {
     "name": "stdout",
     "output_type": "stream",
     "text": [
      "{'assembly_name': 'GRCh38',\n",
      " 'biotype': 'protein_coding',\n",
      " 'db_type': 'core',\n",
      " 'description': 'espin [Source:HGNC Symbol;Acc:HGNC:13281]',\n",
      " 'display_name': 'ESPN',\n",
      " 'end': 6461367,\n",
      " 'id': 'ENSG00000187017',\n",
      " 'logic_name': 'ensembl_havana_gene_homo_sapiens',\n",
      " 'object_type': 'Gene',\n",
      " 'seq_region_name': '1',\n",
      " 'source': 'ensembl_havana',\n",
      " 'species': 'homo_sapiens',\n",
      " 'start': 6424776,\n",
      " 'strand': 1,\n",
      " 'version': 17}\n"
     ]
    }
   ],
   "source": [
    "#!/usr/bin/env python\n",
    "\n",
    "# Get modules needed for script\n",
    "import sys, requests, json\n",
    "from pprint import pprint\n",
    "\n",
    "def fetch_endpoint(server, request, content_type):\n",
    "\n",
    "    r = requests.get(server+request, headers={ \"Accept\" : content_type})\n",
    "\n",
    "    if not r.ok:\n",
    "        r.raise_for_status()\n",
    "        sys.exit()\n",
    "\n",
    "    if content_type == 'application/json':\n",
    "        return r.json()\n",
    "    else:\n",
    "        return r.text\n",
    "\n",
    "# define the gene name\n",
    "gene_name = \"ESPN\"\n",
    "\n",
    "# define the general URL parameters\n",
    "server = \"http://rest.ensembl.org/\"\n",
    "\n",
    "# define REST query to get the gene ID from the gene name\n",
    "ext_get_lookup = \"lookup/symbol/homo_sapiens/\" + gene_name + \"?\"\n",
    "\n",
    "# define the content type\n",
    "con = \"application/json\"\n",
    "\n",
    "# submit the query\n",
    "get_lookup = fetch_endpoint(server, ext_get_lookup, con)\n",
    "\n",
    "pprint (get_lookup)"
   ]
  },
  {
   "cell_type": "markdown",
   "metadata": {},
   "source": [
    "[Next page: Using results](3_Using_results.ipynb)"
   ]
  }
 ],
 "metadata": {
  "kernelspec": {
   "display_name": "Python 3",
   "language": "python",
   "name": "python3"
  },
  "language_info": {
   "codemirror_mode": {
    "name": "ipython",
    "version": 3
   },
   "file_extension": ".py",
   "mimetype": "text/x-python",
   "name": "python",
   "nbconvert_exporter": "python",
   "pygments_lexer": "ipython3",
   "version": "3.8.5"
  }
 },
 "nbformat": 4,
 "nbformat_minor": 2
}
